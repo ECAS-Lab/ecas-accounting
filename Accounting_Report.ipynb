{
 "cells": [
  {
   "cell_type": "markdown",
   "metadata": {},
   "source": [
    "# <center>VA REPORTING</center>"
   ]
  },
  {
   "cell_type": "markdown",
   "metadata": {},
   "source": [
    "### Metric 1 - Registered users"
   ]
  },
  {
   "cell_type": "code",
   "execution_count": null,
   "metadata": {},
   "outputs": [],
   "source": [
    "%matplotlib inline\n",
    "import pandas as pd\n",
    "import matplotlib.pyplot as plt\n",
    "import numpy as np\n",
    "from IPython.display import display, HTML\n",
    "\n",
    "df1 = pd.read_csv(\"path/to/registered/users/csv\")\n",
    "names = df1[\"country\"].value_counts().index.values\n",
    "values = df1[\"country\"].value_counts().values\n",
    "\n",
    "data = {'Country':names, 'Users':values} \n",
    "df_users = pd.DataFrame(data) \n",
    "columnsTitles = ['Country', 'Users']\n",
    "df_users = df_users.reindex(columns=columnsTitles)\n",
    "total = np.sum(values)\n",
    "print(\"Total number of registered users: \"+str(total))"
   ]
  },
  {
   "cell_type": "markdown",
   "metadata": {},
   "source": [
    "#### Users distribution"
   ]
  },
  {
   "cell_type": "code",
   "execution_count": null,
   "metadata": {},
   "outputs": [],
   "source": [
    "labels = [\"%s\" % names[i] for i in range(0,6)]\n",
    "labels.append(\"Other\")\n",
    "\n",
    "sizes = [values[0], values[1],values[2],values[3],values[4],values[5], np.sum(values[6:len(values)])]\n",
    "\n",
    "fig1, ax1 = plt.subplots(figsize=(6,5))\n",
    "fig1.subplots_adjust(0.3,0,1,1)\n",
    "theme = plt.get_cmap('Spectral')\n",
    "\n",
    "ax1.set_prop_cycle(\"color\", [theme(1. * i / len(sizes)) for i in range(len(sizes))])\n",
    "\n",
    "ax1.pie(sizes, shadow=True, autopct=lambda p: '{:.0f}'.format(p * total / 100), startangle=90)\n",
    "\n",
    "ax1.axis('equal')\n",
    "\n",
    "plt.legend(\n",
    "    loc='upper left',\n",
    "    labels=['%s, %1.1f%% ' % (\n",
    "        l ,(float(s) / total) * 100) for l, s in zip(labels, sizes)],\n",
    "    prop={'size': 11},\n",
    "    bbox_to_anchor=(0.0, 1),\n",
    "    bbox_transform=fig1.transFigure\n",
    ")\n",
    "\n",
    "plt.title(\"Total users per country\")\n",
    "plt.show()"
   ]
  },
  {
   "cell_type": "markdown",
   "metadata": {},
   "source": [
    "### Metric 2 - Number of active users\n",
    "\n",
    "---\n",
    "\n",
    "Active users: <see query: Total number of active users>\n",
    "\n",
    "---"
   ]
  },
  {
   "cell_type": "markdown",
   "metadata": {},
   "source": [
    "### Metric 3 - Total number of executed tasks\n",
    "\n",
    "---\n",
    "\n",
    "Tasks executed: <see query: Total number of executed tasks>\n",
    "\n",
    "---"
   ]
  },
  {
   "cell_type": "markdown",
   "metadata": {},
   "source": [
    "### Metric 4 - Most used operators\n",
    "\n",
    "The following bar chart shows the 10 most used Ophidia operators. In Appendix, the whole list is provided. "
   ]
  },
  {
   "cell_type": "code",
   "execution_count": null,
   "metadata": {},
   "outputs": [],
   "source": [
    "df1 = pd.read_csv(\"path/to/csv/N most used operators/query\")\n",
    "names = list(df1.sort_values(by=['count'],ascending=False)['operator'][1:11])\n",
    "values = list(df1.sort_values(by=['count'],ascending=False)['count'][1:11])\n",
    "\n",
    "df_op = df1.sort_values(by=['count'],ascending=False)[1:]\n",
    "\n",
    "x = np.arange(len(names))\n",
    "width = 0.35\n",
    "\n",
    "fig, ax =plt.subplots(figsize=(10,7))\n",
    "rects1 = ax.bar(x - width/2, values, width, label = \"count\")\n",
    "\n",
    "ax.set_ylabel('count')\n",
    "ax.set_title('10 most used operators')\n",
    "ax.set_xticks(x)\n",
    "ax.set_xticklabels(names,rotation=90)\n",
    "ax.legend()\n",
    "\n",
    "def autolabel(rects):\n",
    "    for rect in rects:\n",
    "        height = rect.get_height()\n",
    "        ax.annotate('{}'.format(height),\n",
    "                    xy=(rect.get_x() + rect.get_width() / 2, height),\n",
    "                    xytext=(0, 3),\n",
    "                    textcoords=\"offset points\",\n",
    "                    ha='center', va='bottom')\n",
    "autolabel(rects1)\n",
    "fig.tight_layout()\n",
    "plt.show()"
   ]
  },
  {
   "cell_type": "markdown",
   "metadata": {},
   "source": [
    "### Metric 5 - Total number of cores/hour used\n",
    "\n",
    "---\n",
    "\n",
    "Total cores/hour: <see query: Total number of cores/hour used>\n",
    "\n",
    "---"
   ]
  },
  {
   "cell_type": "markdown",
   "metadata": {},
   "source": [
    "### Metric 6 - Cumulative execution time per operator\n",
    "\n",
    "The following bar chart shows the cumulative execution time for each Ophidia operator. Due an issue occurred during the logging process, a small percentage of entries has been discarded since the corresponding *duration* field contained a wrong value."
   ]
  },
  {
   "cell_type": "code",
   "execution_count": null,
   "metadata": {},
   "outputs": [],
   "source": [
    "df1 = pd.read_csv(\"path/to/csv/Cumulative execution time per operator/query\")\n",
    "\n",
    "operators = list(df1.sort_values(by=['sum'],ascending=False)['operator'][1:15])\n",
    "values = list(df1.sort_values(by=['sum'],ascending=False)['sum'][1:15])\n",
    "\n",
    "df_cum_exec = df1.sort_values(by=['sum'],ascending=False)[1:]\n",
    "\n",
    "fig, ax =plt.subplots(figsize=(10,7))\n",
    "y = np.arange(len(operators)-1)\n",
    "height = 0.5\n",
    "\n",
    "ax.barh(y - height/2, values[1:len(values)], height, align='center')\n",
    "ax.set_xscale(value=\"log\")\n",
    "ax.set_yticks(y)\n",
    "ax.set_yticklabels(operators[1:len(operators)])\n",
    "ax.invert_yaxis()  # labels read top-to-bottom\n",
    "ax.set_xlabel('time (s)')\n",
    "ax.set_title('Cumulative execution time?')\n",
    "\n",
    "plt.show()"
   ]
  },
  {
   "cell_type": "markdown",
   "metadata": {},
   "source": [
    "### Metric 7 - Total number of workflows and operators per user"
   ]
  },
  {
   "cell_type": "code",
   "execution_count": null,
   "metadata": {},
   "outputs": [],
   "source": [
    "df1 = pd.read_csv(\"path/to/csv/Total number of workflows, operators and cores per user/query\")\n",
    "\n",
    "names = list(df1.sort_values(by=['operators'],ascending=False)['username'][1:11])\n",
    "workflows = list(df1.sort_values(by=['operators'],ascending=False)['workflows'][1:11])\n",
    "operators = list(df1.sort_values(by=['operators'],ascending=False)['operators'][1:11])\n",
    "df_wf_op_core = df1\n",
    "\n",
    "n = len(names)\n",
    "fig, ax = plt.subplots(figsize=(10,7))\n",
    "\n",
    "x = np.arange(len(names)) \n",
    "width = 0.35 \n",
    "\n",
    "p1 = plt.bar(x,workflows,width)\n",
    "p2 = plt.bar(x,operators,width,bottom=workflows)\n",
    "\n",
    "plt.ylabel('count')\n",
    "plt.title('Total number of workflows and operators per user')\n",
    "plt.xticks(x, names, rotation=90)\n",
    "\n",
    "plt.legend((p1[0], p2[0]), ('Workflows', 'Operators'))\n",
    "plt.show()"
   ]
  },
  {
   "cell_type": "markdown",
   "metadata": {},
   "source": [
    "### Metric 7.A - Total number of operators per user"
   ]
  },
  {
   "cell_type": "code",
   "execution_count": null,
   "metadata": {},
   "outputs": [],
   "source": [
    "df1 = pd.read_csv(\"path/to/csv/Total number of workflows, operators and cores per user/query\")\n",
    "\n",
    "names = list(df1.sort_values(by=['operators'],ascending=False)['username'])\n",
    "workflows = list(df1.sort_values(by=['operators'],ascending=False)['workflows'])\n",
    "operators = list(df1.sort_values(by=['operators'],ascending=False)['operators'])\n",
    "\n",
    "labels = [\"User %s\" % i for i in range (1,7)]\n",
    "labels.append(\"Other\")\n",
    "\n",
    "sizes = [operators[0], operators[1],operators[2],operators[3],operators[4],operators[5], np.sum(operators[6:len(operators)])]\n",
    "total = sum(sizes)\n",
    "\n",
    "fig1, ax1 = plt.subplots(figsize=(6,5))\n",
    "fig1.subplots_adjust(0.3,0,1,1)\n",
    "theme = plt.get_cmap('Spectral')\n",
    "\n",
    "ax1.set_prop_cycle(\"color\", [theme(1. * i / len(sizes)) for i in range(len(sizes))])\n",
    "\n",
    "ax1.pie(sizes, shadow=True, autopct=lambda p: '{:.0f}'.format(p * total / 100), startangle=90)\n",
    "ax1.axis('equal')\n",
    "\n",
    "plt.legend(\n",
    "    loc='upper left',\n",
    "    labels=['%s, %1.1f%% ' % (\n",
    "        l ,(float(s) / total) * 100) for l, s in zip(labels, sizes)],\n",
    "    prop={'size': 11},\n",
    "    bbox_to_anchor=(0.0, 1),\n",
    "    bbox_transform=fig1.transFigure\n",
    ")\n",
    "\n",
    "plt.title(\"Total number of executed operators per user\")\n",
    "plt.show()"
   ]
  },
  {
   "cell_type": "markdown",
   "metadata": {
    "collapsed": true
   },
   "source": [
    "### Metric 7.B - Total number of workflows per user"
   ]
  },
  {
   "cell_type": "code",
   "execution_count": null,
   "metadata": {},
   "outputs": [],
   "source": [
    "df1 = pd.read_csv(\"path/to/csv/Total number of workflows, operators and cores per user/query\")\n",
    "\n",
    "names = list(df1.sort_values(by=['workflows'],ascending=False)['username'])\n",
    "workflows = list(df1.sort_values(by=['workflows'],ascending=False)['workflows'])\n",
    "operators = list(df1.sort_values(by=['workflows'],ascending=False)['operators'])\n",
    "\n",
    "labels = [\"User %s\" % i for i in range (1,7)]\n",
    "labels.append(\"Other\")\n",
    "\n",
    "sizes = [workflows[0], workflows[1],workflows[2],workflows[3],workflows[4],workflows[6], np.sum(workflows[6:len(workflows)])]\n",
    "total = sum(sizes)\n",
    "\n",
    "fig1, ax1 = plt.subplots(figsize=(6,5))\n",
    "fig1.subplots_adjust(0.3,0,1,1)\n",
    "theme = plt.get_cmap('Spectral')\n",
    "\n",
    "ax1.set_prop_cycle(\"color\", [theme(1. * i / len(sizes)) for i in range(len(sizes))])\n",
    "\n",
    "ax1.pie(sizes, autopct=lambda p: '{:.0f}'.format(p * total / 100), shadow=True, startangle=90)\n",
    "ax1.axis('equal')\n",
    "\n",
    "plt.legend(\n",
    "    loc='upper left',\n",
    "    labels=['%s, %1.1f%%' % (\n",
    "        l, (float(s) / total) * 100) for l, s in zip(labels, sizes)],\n",
    "    prop={'size': 11},\n",
    "    bbox_to_anchor=(0.0, 1),\n",
    "    bbox_transform=fig1.transFigure\n",
    ")\n",
    "\n",
    "plt.title(\"Total number of executed workflows per user\")\n",
    "plt.show()"
   ]
  },
  {
   "cell_type": "markdown",
   "metadata": {},
   "source": [
    "### Metric 7.C - Total number of cores per user"
   ]
  },
  {
   "cell_type": "code",
   "execution_count": null,
   "metadata": {},
   "outputs": [],
   "source": [
    "df1 = pd.read_csv(\"path/to/csv/Total number of workflows, operators and cores per user/query\")\n",
    "\n",
    "df2 = pd.read_csv(\"path/to/csv/Total number of workflows, operators and cores/hour per user/query\")\n",
    "df_wf_op_corehour = df2\n",
    "\n",
    "names = list(df1.sort_values(by=['tot_cores'],ascending=False)['username'])\n",
    "tot_cores = list(df1.sort_values(by=['tot_cores'],ascending=False)['tot_cores'])\n",
    "\n",
    "labels = [\"User %s\" % i for i in range (1,7)]\n",
    "labels.append(\"Other\")\n",
    "\n",
    "sizes = [tot_cores[0], tot_cores[1],tot_cores[2],tot_cores[3],tot_cores[4],tot_cores[6], np.sum(tot_cores[6:len(tot_cores)])]\n",
    "total = sum(sizes)\n",
    "\n",
    "fig1, ax1 = plt.subplots(figsize=(6,5))\n",
    "fig1.subplots_adjust(0.3,0,1,1)\n",
    "theme = plt.get_cmap('Spectral')\n",
    "\n",
    "ax1.set_prop_cycle(\"color\", [theme(1. * i / len(sizes)) for i in range(len(sizes))])\n",
    "\n",
    "ax1.pie(sizes, autopct=lambda p: '{:.0f}'.format(p * total / 100), shadow=True, startangle=90)\n",
    "ax1.axis('equal')\n",
    "\n",
    "plt.legend(\n",
    "    loc='upper left',\n",
    "    labels=['%s, %1.1f%%' % (\n",
    "        l, (float(s) / total) * 100) for l, s in zip(labels, sizes)],\n",
    "    prop={'size': 11},\n",
    "    bbox_to_anchor=(0.0, 1),\n",
    "    bbox_transform=fig1.transFigure\n",
    ")\n",
    "\n",
    "plt.title(\"Total number of used cores per user\")\n",
    "plt.show()"
   ]
  },
  {
   "cell_type": "markdown",
   "metadata": {},
   "source": [
    "### Metric 8 - Total number of workflows, operators and cores"
   ]
  },
  {
   "cell_type": "code",
   "execution_count": null,
   "metadata": {},
   "outputs": [],
   "source": [
    "df = pd.read_csv(\"path/to/csv/Total number of users, workflows, operators and cores/query\")\n",
    "print(df.to_string(index=False))"
   ]
  },
  {
   "cell_type": "markdown",
   "metadata": {},
   "source": [
    "### Metric 9 - Total number of workflows, operators and cores/hour\n",
    "\n",
    "Starting from March 2018, the logging process has been extended to also track the number of cores used to run each task (operators).\n",
    "So, the previous metric has been revised in terms of total cores/hours instead of total cores."
   ]
  },
  {
   "cell_type": "code",
   "execution_count": null,
   "metadata": {},
   "outputs": [],
   "source": [
    "df = pd.read_csv(\"path/to/csv/Total number of users, workflows, operators and cores/hour/query\")\n",
    "print(df.to_string(index=False))"
   ]
  },
  {
   "cell_type": "markdown",
   "metadata": {
    "collapsed": true
   },
   "source": [
    "## APPENDIX\n",
    "\n",
    "#### TOTAL USERS PER COUNTRY"
   ]
  },
  {
   "cell_type": "code",
   "execution_count": null,
   "metadata": {},
   "outputs": [],
   "source": [
    "display(HTML(df_users.to_html(index=False)))"
   ]
  },
  {
   "cell_type": "markdown",
   "metadata": {},
   "source": [
    "#### Ophidia operators: total number of executions"
   ]
  },
  {
   "cell_type": "code",
   "execution_count": null,
   "metadata": {},
   "outputs": [],
   "source": [
    "display(HTML(df_op.to_html(index=False)))"
   ]
  },
  {
   "cell_type": "markdown",
   "metadata": {},
   "source": [
    "#### Ophidia operators: cumulative execution time"
   ]
  },
  {
   "cell_type": "code",
   "execution_count": null,
   "metadata": {},
   "outputs": [],
   "source": [
    "display(HTML(df_cum_exec.to_html(index=False)))"
   ]
  },
  {
   "cell_type": "markdown",
   "metadata": {},
   "source": [
    "#### User statistics: number of workflows and operators executed, total number of cores used"
   ]
  },
  {
   "cell_type": "code",
   "execution_count": null,
   "metadata": {},
   "outputs": [],
   "source": [
    "display(HTML(df_wf_op_core.to_html(index=False)))"
   ]
  },
  {
   "cell_type": "markdown",
   "metadata": {},
   "source": [
    "### User statistics: number of workflows and operators executed, total number of cores/hour used (from March 2018)"
   ]
  },
  {
   "cell_type": "code",
   "execution_count": null,
   "metadata": {},
   "outputs": [],
   "source": [
    "display(HTML(df_wf_op_corehour.to_html(index=False)))"
   ]
  }
 ],
 "metadata": {
  "kernelspec": {
   "display_name": "Python 3",
   "language": "python",
   "name": "python3"
  },
  "language_info": {
   "codemirror_mode": {
    "name": "ipython",
    "version": 3
   },
   "file_extension": ".py",
   "mimetype": "text/x-python",
   "name": "python",
   "nbconvert_exporter": "python",
   "pygments_lexer": "ipython3",
   "version": "3.6.8"
  }
 },
 "nbformat": 4,
 "nbformat_minor": 2
}
